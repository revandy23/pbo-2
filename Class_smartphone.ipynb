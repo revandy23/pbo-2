{
  "nbformat": 4,
  "nbformat_minor": 0,
  "metadata": {
    "colab": {
      "provenance": [],
      "authorship_tag": "ABX9TyM8Nnv0jJB4ZjVihDkcRpkw",
      "include_colab_link": true
    },
    "kernelspec": {
      "name": "python3",
      "display_name": "Python 3"
    },
    "language_info": {
      "name": "python"
    }
  },
  "cells": [
    {
      "cell_type": "markdown",
      "metadata": {
        "id": "view-in-github",
        "colab_type": "text"
      },
      "source": [
        "<a href=\"https://colab.research.google.com/github/revandy23/pbo-2/blob/main/Class_smartphone.ipynb\" target=\"_parent\"><img src=\"https://colab.research.google.com/assets/colab-badge.svg\" alt=\"Open In Colab\"/></a>"
      ]
    },
    {
      "cell_type": "code",
      "execution_count": 2,
      "metadata": {
        "colab": {
          "base_uri": "https://localhost:8080/"
        },
        "id": "H-Lu3e0boilf",
        "outputId": "0a78df86-eefa-42a0-974a-72e4090026f7"
      },
      "outputs": [
        {
          "output_type": "stream",
          "name": "stdout",
          "text": [
            "Nama Produk: Smartphone\n",
            "Merek Produk: Samsung\n",
            "Harga Produk: IDR 999.99\n"
          ]
        }
      ],
      "source": [
        "class ProdukElektronik:\n",
        "    def __init__(self):\n",
        "        self.nama_produk = \"\"\n",
        "        self.merek = \"\"\n",
        "        self.harga = 0.0\n",
        "\n",
        "def main():\n",
        "    produk = ProdukElektronik()\n",
        "    produk.nama_produk = \"Smartphone\"\n",
        "    produk.merek = \"Samsung\"\n",
        "    produk.harga = 999.99\n",
        "\n",
        "    print('Nama Produk:', produk.nama_produk)\n",
        "    print('Merek Produk:', produk.merek)\n",
        "    print('Harga Produk: IDR', produk.harga)\n",
        "\n",
        "if __name__ == '__main__':\n",
        "    main()"
      ]
    }
  ]
}