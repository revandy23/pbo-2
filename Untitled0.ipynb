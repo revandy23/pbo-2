{
  "nbformat": 4,
  "nbformat_minor": 0,
  "metadata": {
    "colab": {
      "provenance": [],
      "authorship_tag": "ABX9TyNjSYwDzBNz9hXishiulGSw",
      "include_colab_link": true
    },
    "kernelspec": {
      "name": "python3",
      "display_name": "Python 3"
    },
    "language_info": {
      "name": "python"
    }
  },
  "cells": [
    {
      "cell_type": "markdown",
      "metadata": {
        "id": "view-in-github",
        "colab_type": "text"
      },
      "source": [
        "<a href=\"https://colab.research.google.com/github/revandy23/pbo-2/blob/main/Untitled0.ipynb\" target=\"_parent\"><img src=\"https://colab.research.google.com/assets/colab-badge.svg\" alt=\"Open In Colab\"/></a>"
      ]
    },
    {
      "cell_type": "code",
      "source": [
        "class HewanPeliharaan:\n",
        "    def __init__(self):  # Constructor\n",
        "        self.nama = \"\"\n",
        "        self.jenis = \"\"\n",
        "        self.umur = 0\n",
        "\n",
        "def main():\n",
        "    hewan = HewanPeliharaan()\n",
        "    hewan.nama = \"Milo\"\n",
        "    hewan.jenis = \"Kucing\"\n",
        "    hewan.umur = 3  # Umur dalam tahun\n",
        "\n",
        "    print('Nama Hewan Peliharaan:', hewan.nama)\n",
        "    print('Jenis Hewan:', hewan.jenis)\n",
        "    print('Umur Hewan:', hewan.umur, 'tahun')\n",
        "\n",
        "if __name__ == '__main__':  # Conditional check\n",
        "    main()"
      ],
      "metadata": {
        "colab": {
          "base_uri": "https://localhost:8080/"
        },
        "id": "Qm-G2Brvmyi2",
        "outputId": "bf2bc529-2bb3-4769-d4e3-8de5958a8a80"
      },
      "execution_count": 4,
      "outputs": [
        {
          "output_type": "stream",
          "name": "stdout",
          "text": [
            "Nama Hewan Peliharaan: Milo\n",
            "Jenis Hewan: Kucing\n",
            "Umur Hewan: 3 tahun\n"
          ]
        }
      ]
    }
  ]
}