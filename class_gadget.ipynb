{
  "nbformat": 4,
  "nbformat_minor": 0,
  "metadata": {
    "colab": {
      "provenance": [],
      "authorship_tag": "ABX9TyM9qOE3ZnG8nDqLnEKjAW6k",
      "include_colab_link": true
    },
    "kernelspec": {
      "name": "python3",
      "display_name": "Python 3"
    },
    "language_info": {
      "name": "python"
    }
  },
  "cells": [
    {
      "cell_type": "markdown",
      "metadata": {
        "id": "view-in-github",
        "colab_type": "text"
      },
      "source": [
        "<a href=\"https://colab.research.google.com/github/revandy23/pbo-2/blob/main/class_gadget.ipynb\" target=\"_parent\"><img src=\"https://colab.research.google.com/assets/colab-badge.svg\" alt=\"Open In Colab\"/></a>"
      ]
    },
    {
      "cell_type": "code",
      "source": [
        "class Gadget:\n",
        "    def __init__(self):\n",
        "        self.nama = \"\"\n",
        "        self.tipe = \"\"\n",
        "        self.harga = 0.0\n",
        "\n",
        "def main():\n",
        "    gadget = Gadget()\n",
        "    gadget.nama = \"Smartwatch\"\n",
        "    gadget.tipe = \"Wearable\"\n",
        "    gadget.harga = 1500000  # dalam IDR\n",
        "\n",
        "    print('Nama Gadget:', gadget.nama)\n",
        "    print('Tipe Gadget:', gadget.tipe)\n",
        "    print('Harga Gadget: Rp', gadget.harga)\n",
        "\n",
        "if __name__ == '__main__':\n",
        "    main()"
      ],
      "metadata": {
        "colab": {
          "base_uri": "https://localhost:8080/"
        },
        "id": "v86UpY6SqDqb",
        "outputId": "9cf799fb-6b62-4b13-dd2b-c478b6f0ec47"
      },
      "execution_count": 5,
      "outputs": [
        {
          "output_type": "stream",
          "name": "stdout",
          "text": [
            "Nama Gadget: Smartwatch\n",
            "Tipe Gadget: Wearable\n",
            "Harga Gadget: Rp 1500000\n"
          ]
        }
      ]
    }
  ]
}