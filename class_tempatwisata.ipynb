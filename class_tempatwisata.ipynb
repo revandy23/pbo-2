{
  "nbformat": 4,
  "nbformat_minor": 0,
  "metadata": {
    "colab": {
      "provenance": [],
      "authorship_tag": "ABX9TyNWE2IoE2DvN4fOWk1rbBxt",
      "include_colab_link": true
    },
    "kernelspec": {
      "name": "python3",
      "display_name": "Python 3"
    },
    "language_info": {
      "name": "python"
    }
  },
  "cells": [
    {
      "cell_type": "markdown",
      "metadata": {
        "id": "view-in-github",
        "colab_type": "text"
      },
      "source": [
        "<a href=\"https://colab.research.google.com/github/revandy23/pbo-2/blob/main/class_tempatwisata.ipynb\" target=\"_parent\"><img src=\"https://colab.research.google.com/assets/colab-badge.svg\" alt=\"Open In Colab\"/></a>"
      ]
    },
    {
      "cell_type": "code",
      "source": [
        "class TempatWisata:\n",
        "    def __init__(self):\n",
        "        self.nama_tempat = \"\"\n",
        "        self.lokasi = \"\"\n",
        "        self.tiket_masuk = 0.0\n",
        "\n",
        "def main():\n",
        "    tempat = TempatWisata()\n",
        "    tempat.nama_tempat = \"Candi Borobudur\"\n",
        "    tempat.lokasi = \"Magelang, Jawa Tengah\"\n",
        "    tempat.tiket_masuk = 50.000  # dalam IDR\n",
        "\n",
        "    print('Nama Tempat Wisata:', tempat.nama_tempat)\n",
        "    print('Lokasi:', tempat.lokasi)\n",
        "    print('Harga Tiket Masuk: Rp', tempat.tiket_masuk)\n",
        "\n",
        "if __name__ == '__main__':\n",
        "    main()"
      ],
      "metadata": {
        "colab": {
          "base_uri": "https://localhost:8080/"
        },
        "id": "YD_jc66Fo_m2",
        "outputId": "60ceb192-52c7-4918-8667-4068ef0eabdd"
      },
      "execution_count": 3,
      "outputs": [
        {
          "output_type": "stream",
          "name": "stdout",
          "text": [
            "Nama Tempat Wisata: Candi Borobudur\n",
            "Lokasi: Magelang, Jawa Tengah\n",
            "Harga Tiket Masuk: Rp 50.0\n"
          ]
        }
      ]
    }
  ]
}