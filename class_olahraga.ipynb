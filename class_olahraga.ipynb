{
  "nbformat": 4,
  "nbformat_minor": 0,
  "metadata": {
    "colab": {
      "provenance": [],
      "authorship_tag": "ABX9TyPEg96kJuxyV4njCsnqZOKu",
      "include_colab_link": true
    },
    "kernelspec": {
      "name": "python3",
      "display_name": "Python 3"
    },
    "language_info": {
      "name": "python"
    }
  },
  "cells": [
    {
      "cell_type": "markdown",
      "metadata": {
        "id": "view-in-github",
        "colab_type": "text"
      },
      "source": [
        "<a href=\"https://colab.research.google.com/github/revandy23/pbo-2/blob/main/class_olahraga.ipynb\" target=\"_parent\"><img src=\"https://colab.research.google.com/assets/colab-badge.svg\" alt=\"Open In Colab\"/></a>"
      ]
    },
    {
      "cell_type": "code",
      "source": [
        "class Olahraga:\n",
        "    def __init__(self):\n",
        "        self.nama = \"\"\n",
        "        self.jenis = \"\"\n",
        "        self.jumlah_pemain = 0\n",
        "\n",
        "def main():\n",
        "    olahraga = Olahraga()\n",
        "    olahraga.nama = \"Sepak Bola\"\n",
        "    olahraga.jenis = \"Tim\"\n",
        "    olahraga.jumlah_pemain = 11\n",
        "\n",
        "    print('Nama Olahraga:', olahraga.nama)\n",
        "    print('Jenis Olahraga:', olahraga.jenis)\n",
        "    print('Jumlah Pemain:', olahraga.jumlah_pemain)\n",
        "\n",
        "if __name__ == '__main__':\n",
        "    main()"
      ],
      "metadata": {
        "colab": {
          "base_uri": "https://localhost:8080/"
        },
        "id": "gACf8xUxpkhb",
        "outputId": "03d94466-271e-430a-9005-43ed99d119d5"
      },
      "execution_count": 4,
      "outputs": [
        {
          "output_type": "stream",
          "name": "stdout",
          "text": [
            "Nama Olahraga: Sepak Bola\n",
            "Jenis Olahraga: Tim\n",
            "Jumlah Pemain: 11\n"
          ]
        }
      ]
    }
  ]
}